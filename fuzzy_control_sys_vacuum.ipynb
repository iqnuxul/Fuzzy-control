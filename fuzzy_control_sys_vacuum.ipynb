{
 "cells": [
  {
   "cell_type": "code",
   "execution_count": 6,
   "id": "3f3aec97-6ed5-4569-b8fc-6ce4be73026c",
   "metadata": {},
   "outputs": [
    {
     "name": "stdout",
     "output_type": "stream",
     "text": [
      "Collecting scikit-fuzzy\n",
      "  Downloading scikit_fuzzy-0.5.0-py2.py3-none-any.whl.metadata (2.6 kB)\n",
      "Downloading scikit_fuzzy-0.5.0-py2.py3-none-any.whl (920 kB)\n",
      "\u001b[2K   \u001b[90m━━━━━━━━━━━━━━━━━━━━━━━━━━━━━━━━━━━━━━━━\u001b[0m \u001b[32m920.8/920.8 kB\u001b[0m \u001b[31m14.7 MB/s\u001b[0m eta \u001b[36m0:00:00\u001b[0m\n",
      "\u001b[?25hInstalling collected packages: scikit-fuzzy\n",
      "Successfully installed scikit-fuzzy-0.5.0\n"
     ]
    }
   ],
   "source": [
    "!pip install scikit-fuzzy"
   ]
  },
  {
   "cell_type": "code",
   "execution_count": 23,
   "id": "b87367f9-e62e-40c2-8119-1624e8c7b050",
   "metadata": {},
   "outputs": [],
   "source": [
    "import numpy as np\n",
    "import skfuzzy as fuzz\n",
    "from skfuzzy import control as ctrl"
   ]
  },
  {
   "cell_type": "code",
   "execution_count": 25,
   "id": "6c32e21e-1202-43c3-8576-61bbe6ba23bc",
   "metadata": {},
   "outputs": [
    {
     "name": "stdout",
     "output_type": "stream",
     "text": [
      "166.70682492581597\n"
     ]
    }
   ],
   "source": [
    "speed = ctrl.Antecedent(np.arange(0, 2.6, 0.1), 'speed')\n",
    "diaphragm = ctrl.Antecedent(np.arange(0, 41, 1), 'diaphragm')\n",
    "control_voltage = ctrl.Consequent(np.arange(110, 231, 1), 'control_voltage')\n",
    "speed['slow'] = fuzz.trimf(speed.universe, [0, 0, 1.25])\n",
    "speed['normal'] = fuzz.trimf(speed.universe, [0.625, 1.25, 1.875])\n",
    "speed['rapid'] = fuzz.trimf(speed.universe, [1.25, 2.5, 2.5])\n",
    "\n",
    "diaphragm['weak'] = fuzz.trimf(diaphragm.universe, [0, 0, 10])\n",
    "diaphragm['medium'] = fuzz.trimf(diaphragm.universe, [5, 15, 25])\n",
    "diaphragm['strong'] = fuzz.trimf(diaphragm.universe, [20, 30, 40])\n",
    "diaphragm['very_strong'] = fuzz.trimf(diaphragm.universe, [30, 40, 40])\n",
    "\n",
    "control_voltage['very_weak'] = fuzz.trimf(control_voltage.universe, [110, 110, 140])\n",
    "control_voltage['medium'] = fuzz.trimf(control_voltage.universe, [150, 170, 190])\n",
    "control_voltage['fairly_strong'] = fuzz.trimf(control_voltage.universe, [160, 190, 220])\n",
    "control_voltage['strong'] = fuzz.trimf(control_voltage.universe, [200, 215, 230])\n",
    "control_voltage['very_strong'] = fuzz.trimf(control_voltage.universe, [210, 230, 230])\n",
    "rules = [\n",
    "    ctrl.Rule(speed['slow'] & diaphragm['weak'], control_voltage['strong']),\n",
    "    ctrl.Rule(speed['normal'] & diaphragm['weak'], control_voltage['very_strong']),\n",
    "    ctrl.Rule(speed['rapid'] & diaphragm['weak'], control_voltage['very_strong']),\n",
    "    ctrl.Rule(speed['slow'] & diaphragm['medium'], control_voltage['medium']),\n",
    "    ctrl.Rule(speed['normal'] & diaphragm['medium'], control_voltage['fairly_strong']),\n",
    "    ctrl.Rule(speed['rapid'] & diaphragm['medium'], control_voltage['strong']),\n",
    "    ctrl.Rule(speed['slow'] & diaphragm['strong'], control_voltage['very_weak']),\n",
    "    ctrl.Rule(speed['normal'] & diaphragm['strong'], control_voltage['medium']),\n",
    "    ctrl.Rule(speed['rapid'] & diaphragm['strong'], control_voltage['very_strong']),\n",
    "    ctrl.Rule(speed['slow'] & diaphragm['very_strong'], control_voltage['medium']),\n",
    "    ctrl.Rule(speed['normal'] & diaphragm['very_strong'], control_voltage['strong']),\n",
    "    ctrl.Rule(speed['rapid'] & diaphragm['very_strong'], control_voltage['very_strong']),\n",
    "]\n",
    "control_system = ctrl.ControlSystem(rules)\n",
    "control_simulation = ctrl.ControlSystemSimulation(control_system)\n",
    "# Example:\n",
    "control_simulation.input['speed'] = 1.2  \n",
    "control_simulation.input['diaphragm'] = 25  \n",
    "control_simulation.compute()\n",
    "print(control_simulation.output['control_voltage'])"
   ]
  },
  {
   "cell_type": "code",
   "execution_count": null,
   "id": "ae2c06a6-0a8d-4016-ad2a-02527c8ff629",
   "metadata": {},
   "outputs": [],
   "source": []
  }
 ],
 "metadata": {
  "kernelspec": {
   "display_name": "Python [conda env:base] *",
   "language": "python",
   "name": "conda-base-py"
  },
  "language_info": {
   "codemirror_mode": {
    "name": "ipython",
    "version": 3
   },
   "file_extension": ".py",
   "mimetype": "text/x-python",
   "name": "python",
   "nbconvert_exporter": "python",
   "pygments_lexer": "ipython3",
   "version": "3.12.7"
  }
 },
 "nbformat": 4,
 "nbformat_minor": 5
}
